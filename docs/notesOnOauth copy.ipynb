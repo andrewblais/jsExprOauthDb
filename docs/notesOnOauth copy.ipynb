{
 "cells": [
  {
   "cell_type": "markdown",
   "metadata": {},
   "source": [
    "## **_Integrating OAuth:_**\n",
    "\n",
    "-   This notebook contains the steps I used to incorporate authentication strategies to this project.\n",
    "\n",
    "**_re: Angela's WebDev Course Section 35. Authentication and Security_**\n",
    "\n",
    "**_Will be referencing `\"/.projectReference\\oauthReference.ipynb\"`._**"
   ]
  },
  {
   "cell_type": "markdown",
   "metadata": {},
   "source": [
    "<hr style=\"height: 0; box-shadow: 0 0 5px 4px crimson; width: 95%;\">"
   ]
  },
  {
   "cell_type": "markdown",
   "metadata": {},
   "source": [
    "### **_pgAdmin Stuff:_**"
   ]
  },
  {
   "cell_type": "markdown",
   "metadata": {},
   "source": [
    "-   If you've forgotten the names of tables in a db..."
   ]
  },
  {
   "cell_type": "markdown",
   "metadata": {},
   "source": [
    "<font size=1>\n",
    "\n",
    "```sql\n",
    "SELECT table_name\n",
    "FROM information_schema.tables\n",
    "WHERE table_schema = 'public'\n",
    "AND table_type = 'BASE TABLE';\n",
    "```\n",
    "\n",
    "</font>\n"
   ]
  },
  {
   "cell_type": "markdown",
   "metadata": {},
   "source": [
    "-   Looking up current `secrets` db table `users` state:"
   ]
  },
  {
   "cell_type": "markdown",
   "metadata": {},
   "source": [
    "<font size=1>\n",
    "\n",
    "```sql\n",
    "SELECT * FROM users;\n",
    "```\n",
    "\n",
    "</font>"
   ]
  },
  {
   "cell_type": "markdown",
   "metadata": {},
   "source": [
    "-   Look at up `js_capstone_book` db's table `book_recommendations`:"
   ]
  },
  {
   "cell_type": "markdown",
   "metadata": {},
   "source": [
    "<font size=1>\n",
    "\n",
    "```sql\n",
    "SELECT * FROM book_recommendations;\n",
    "```\n",
    "\n",
    "</font>"
   ]
  },
  {
   "cell_type": "markdown",
   "metadata": {},
   "source": [
    "-   We need to now enter columns for user"
   ]
  },
  {
   "cell_type": "markdown",
   "metadata": {},
   "source": [
    "-   Add new columns:\n",
    "\n",
    "```sql\n",
    "ALTER TABLE book_recommendations\n",
    "ADD user_name VARCHAR(100),\n",
    "ADD password VARCHAR(100);\n",
    "```"
   ]
  },
  {
   "cell_type": "markdown",
   "metadata": {},
   "source": [
    "-   Success! New columns added..."
   ]
  },
  {
   "cell_type": "markdown",
   "metadata": {},
   "source": [
    "-  Change `user_name` to `user_email` in case we want to add an actual username or have the user's actual name in the db.\n",
    "\n",
    "\n",
    "```sql\n",
    "ALTER TABLE book_recommendations\n",
    "RENAME user_name to user_email;\n",
    "```"
   ]
  },
  {
   "cell_type": "markdown",
   "metadata": {},
   "source": [
    "<hr style=\"height: 0; box-shadow: 0 0 5px 4px crimson; width: 95%;\">"
   ]
  },
  {
   "cell_type": "markdown",
   "metadata": {},
   "source": [
    "### **_Imports/Install:_**"
   ]
  },
  {
   "cell_type": "markdown",
   "metadata": {},
   "source": [
    "<font size=1>\n",
    "\n",
    "```js\n",
    "import bcrypt from \"bcrypt\";\n",
    "import session from \"express-session\";\n",
    "import passport from \"passport\";\n",
    "import { Strategy as LocalStrategy } from \"passport-local\";\n",
    "import { Strategy as GoogleStrategy } from \"passport-google-oauth20\";\n",
    "```\n",
    "\n",
    "</font>"
   ]
  },
  {
   "cell_type": "markdown",
   "metadata": {},
   "source": [
    "<font size=1>\n",
    "\n",
    "```console\n",
    "≫  npm i bcrypt passport express-session passport-local passport-google-oauth20\n",
    "≫ npm update\n",
    "≫ nodemon index.js\n",
    "```\n",
    "\n",
    "</font>"
   ]
  },
  {
   "cell_type": "markdown",
   "metadata": {},
   "source": [
    "<hr style=\"height: 0; box-shadow: 0 0 5px 4px crimson; width: 95%;\">"
   ]
  },
  {
   "cell_type": "markdown",
   "metadata": {},
   "source": [
    "### **_Preliminary Stuff to Integrate:_**"
   ]
  },
  {
   "cell_type": "markdown",
   "metadata": {},
   "source": [
    "-   Add environment variables in file `.env`."
   ]
  },
  {
   "cell_type": "markdown",
   "metadata": {},
   "source": [
    "<font size=1>\n",
    "\n",
    "```js\n",
    "app.use(\n",
    "    session({\n",
    "        secret: process.env.SESSION_SECRET,\n",
    "        resave: false,\n",
    "        saveUninitialized: true,\n",
    "\n",
    "        cookie: { maxAge: 1000 * 60 * 60 * 24 },\n",
    "    })\n",
    ");\n",
    "```\n",
    "\n",
    "</font>"
   ]
  },
  {
   "cell_type": "markdown",
   "metadata": {},
   "source": [
    "<font size=1>\n",
    "\n",
    "```js\n",
    "app.use(passport.initialize());\n",
    "app.use(passport.session());\n",
    "```\n",
    "\n",
    "</font>"
   ]
  },
  {
   "cell_type": "markdown",
   "metadata": {},
   "source": [
    "<hr style=\"height: 0; box-shadow: 0 0 5px 4px crimson; width: 95%;\">"
   ]
  },
  {
   "cell_type": "markdown",
   "metadata": {},
   "source": [
    "### **_Getting HTML/EJS in Order:_**"
   ]
  },
  {
   "cell_type": "markdown",
   "metadata": {},
   "source": [
    "-   Convert syntax/classes from yuAuth lesson to match jsCapstoneBook project."
   ]
  },
  {
   "cell_type": "markdown",
   "metadata": {},
   "source": [
    "-   **ASIDE:** I modified `index.js` to allow adding the book with just the title and whatever the user entered (except author) in case the book isn't found online. Added a blank book image for these cases. `openlibrary.org` seems to be down...maybe the `archive.org` hack??"
   ]
  },
  {
   "cell_type": "markdown",
   "metadata": {},
   "source": [
    "-   Moved a couple of functions from `index.js` to `utilityFunctions.js`, figured out how to export/import/implement. `openlibrary.org` is still down! 101624"
   ]
  },
  {
   "cell_type": "markdown",
   "metadata": {},
   "source": [
    "-   Finished aligning/formatting .ejs files with css. Register and Login pages now looking good!"
   ]
  },
  {
   "cell_type": "markdown",
   "metadata": {},
   "source": [
    "-   CSS formatting for top links and text for Google link."
   ]
  },
  {
   "cell_type": "markdown",
   "metadata": {},
   "source": [
    "<hr style=\"height: 0; box-shadow: 0 0 5px 4px crimson; width: 95%;\">"
   ]
  },
  {
   "cell_type": "markdown",
   "metadata": {},
   "source": [
    "### **_`index.js`:_**"
   ]
  },
  {
   "cell_type": "markdown",
   "metadata": {},
   "source": [
    "-   Added `if (req.isAuthenticated())` requirement to index `\"/\"` route to allow viewing of (adding to) book list only if user is registered/signed in."
   ]
  },
  {
   "cell_type": "markdown",
   "metadata": {},
   "source": [
    "-   Changed main page to `login` and what was `\"/\"` to `\"/booklist\"` to facilitate ease of routing, especially re:\n",
    "\n",
    "<font size=1>\n",
    "\n",
    "```js\n",
    "app.get(\n",
    "    \"/auth/google/booklist\",\n",
    "    passport.authenticate(\"google\", {\n",
    "        successRedirect: \"/booklist\",\n",
    "        failureRedirect: \"/login\",\n",
    "    })\n",
    ");\n",
    "```\n",
    "\n",
    "</font>"
   ]
  },
  {
   "cell_type": "markdown",
   "metadata": {},
   "source": [
    "-   Actually, changed it back. `index.ejs` should be the book list page, and located at `\"/\"`!"
   ]
  },
  {
   "cell_type": "markdown",
   "metadata": {},
   "source": [
    "-   Got the rest of the JavaScript transferred over from the Angela's `secrets` lesson.\n",
    "\n",
    "-   Next step to make sure it runs smoothly after creating instance for this project on Google Cloud...\n",
    "\n",
    "    -   Review lesson where Angela walks us through steps to register new project on Google."
   ]
  },
  {
   "cell_type": "markdown",
   "metadata": {},
   "source": [
    "<hr style=\"height: 0; box-shadow: 0 0 5px 4px crimson; width: 95%;\">"
   ]
  },
  {
   "cell_type": "markdown",
   "metadata": {},
   "source": [
    "-   Create project and set up Google OAuth functionality via https://cloud.google.com.\n",
    "\n",
    "-   Integrate values into environment.\n",
    "\n",
    "-   Make sure endpoints/callbacks are correct in `index.js`."
   ]
  },
  {
   "cell_type": "markdown",
   "metadata": {},
   "source": [
    "<hr style=\"height: 0; box-shadow: 0 0 5px 4px crimson; width: 95%;\">"
   ]
  },
  {
   "cell_type": "markdown",
   "metadata": {},
   "source": [
    "-   Now realizing I need a new table for `users`, separate from `book_recommendations`.\n",
    "\n",
    "-   Later make them relational."
   ]
  },
  {
   "cell_type": "markdown",
   "metadata": {},
   "source": [
    "<font size=1>\n",
    "\n",
    "```sql\n",
    "ALTER TABLE book_recommendations\n",
    "DROP COLUMN user_email,\n",
    "DROP COLUMN password;\n",
    "```\n",
    "\n",
    "</font>"
   ]
  },
  {
   "cell_type": "markdown",
   "metadata": {},
   "source": [
    "<font size=1>\n",
    "\n",
    "```sql\n",
    "CREATE TABLE users (\n",
    "\tid SERIAL PRIMARY KEY,\n",
    "\tuser_email VARCHAR(100) NOT NULL UNIQUE,\n",
    "\tpasssword VARCHAR(100)\n",
    ")\n",
    "```\n",
    "\n",
    "</font>"
   ]
  },
  {
   "cell_type": "markdown",
   "metadata": {},
   "source": [
    "-   Oopsie!\n",
    "\n",
    "<font size=1>\n",
    "\n",
    "```sql\n",
    "ALTER TABLE users\n",
    "RENAME COLUMN passsword TO password;\n",
    "```\n",
    "\n",
    "</font>"
   ]
  },
  {
   "cell_type": "markdown",
   "metadata": {},
   "source": [
    "-   On the right track. User can register and edit book list, but cannot login!"
   ]
  },
  {
   "cell_type": "markdown",
   "metadata": {},
   "source": [
    "<hr style=\"height: 0; box-shadow: 0 0 5px 4px crimson; width: 95%;\">"
   ]
  },
  {
   "cell_type": "markdown",
   "metadata": {},
   "source": [
    "### **_Duplicate Database:_**\n",
    "\n",
    "-   So it has same name as this project.\n"
   ]
  },
  {
   "cell_type": "markdown",
   "metadata": {},
   "source": [
    "<font size=1>\n",
    "\n",
    "```sql\n",
    "CREATE DATABASE js_expr_oauth_db\n",
    "WITH TEMPLATE js_capstone_book;\n",
    "```\n",
    "\n",
    "</font>"
   ]
  },
  {
   "cell_type": "markdown",
   "metadata": {},
   "source": [
    "<hr style=\"height: 0; box-shadow: 0 0 5px 4px crimson; width: 95%;\">"
   ]
  },
  {
   "cell_type": "markdown",
   "metadata": {},
   "source": [
    "-   I'd modified the `session()` code to:"
   ]
  },
  {
   "cell_type": "markdown",
   "metadata": {},
   "source": [
    "<font size=1>\n",
    "\n",
    "```js\n",
    "app.use(\n",
    "    session({\n",
    "        // Keeps session data secure:\n",
    "        secret: process.env.SESSION_SECRET,\n",
    "        // Prevents session from being saved back to\n",
    "        //  the store if it hasn't changed:\n",
    "        resave: false,\n",
    "        // Save uninitialized sessions (new but\n",
    "        //  not modified):\n",
    "        saveUninitialized: true,\n",
    "        cookie: {\n",
    "            // One day expiration time for the cookie:\n",
    "            maxAge: 1000 * 60 * 60 * 24,\n",
    "            // Ensures the cookie is sent only over HTTPS:\n",
    "            secure: true,\n",
    "            // Ensures the cookie can be sent in cross-\n",
    "            //  site requests (for OAuth):\n",
    "            sameSite: \"None\",\n",
    "        },\n",
    "    })\n",
    ");\n",
    "```\n",
    "\n",
    "</font>\n",
    "\n",
    "-   When I was having issues with OAuth.\n",
    "\n",
    "-   Having fixed the issues by fixing the URI endpoint, I'm going back to the original version, as the above causes no Google screen to appear on Sign In:\n",
    "\n",
    "```js\n",
    "app.use(\n",
    "    session({\n",
    "        secret: process.env.SESSION_SECRET,\n",
    "        resave: false,\n",
    "        saveUninitialized: true,\n",
    "        cookie: { maxAge: 1000 * 60 * 60 * 24 },\n",
    "    })\n",
    ");\n",
    "```"
   ]
  },
  {
   "cell_type": "markdown",
   "metadata": {},
   "source": [
    "<hr style=\"height: 0; box-shadow: 0 0 5px 4px crimson; width: 95%;\">"
   ]
  },
  {
   "cell_type": "markdown",
   "metadata": {},
   "source": [
    "-   openlibrary.org is back up!\n",
    "\n",
    "-   After signing in with Google OAuth, the add book form works great.\n",
    "\n",
    "-   OAuth register redirects to login: look into this later, not super important.\n",
    "\n",
    "-   Logout working fine, `req.isAuthenticated()` returning `false`, all good (for Google sign in)."
   ]
  },
  {
   "cell_type": "markdown",
   "metadata": {},
   "source": [
    "-   Local Register is working and redirects to book list. Going to `/` redirects user to `/books`, that's good.\n",
    "\n",
    "-   Local login doesn't do anything.\n",
    "\n",
    "-   Arrgh -- it turns out the issue was `new LocalStrategy(async function verify(username, password, cb)` requires `password`. I'd wanted to use `userEmail`. If you don't specify a different name like this:\n",
    "\n",
    "```js\n",
    "app.post(\"/\", passport.authenticate('local', {\n",
    "    usernameField: 'userEmail',  // Add this\n",
    "    passwordField: 'password',    // This is default, but shown for completeness\n",
    "    successRedirect: '/books',\n",
    "    failureRedirect: '/'\n",
    "}));\n",
    "```\n",
    "\n",
    "...then you need to use the default param here and in the ejs.\n",
    "\n",
    "-   I'll just use `username` for now..."
   ]
  },
  {
   "cell_type": "markdown",
   "metadata": {},
   "source": [
    "<hr style=\"height: 0; box-shadow: 0 0 5px 4px crimson; width: 95%;\">"
   ]
  },
  {
   "cell_type": "markdown",
   "metadata": {},
   "source": [
    "<font size=1>\n",
    "\n",
    "```sql\n",
    "-- sql\n",
    "```\n",
    "\n",
    "</font>"
   ]
  },
  {
   "cell_type": "markdown",
   "metadata": {},
   "source": [
    "<font size=1>\n",
    "\n",
    "```console\n",
    "≫ console\n",
    "← \n",
    "```\n",
    "\n",
    "</font>"
   ]
  },
  {
   "cell_type": "markdown",
   "metadata": {},
   "source": [
    "<font size=1>\n",
    "\n",
    "```js\n",
    "// js\n",
    "```\n",
    "\n",
    "</font>"
   ]
  },
  {
   "cell_type": "markdown",
   "metadata": {},
   "source": [
    "<font size=1>\n",
    "\n",
    "```sql\n",
    "-- sql\n",
    "```\n",
    "\n",
    "</font>"
   ]
  },
  {
   "cell_type": "markdown",
   "metadata": {},
   "source": [
    "<font size=1>\n",
    "\n",
    "```console\n",
    "≫ console\n",
    "← \n",
    "```\n",
    "\n",
    "</font>"
   ]
  },
  {
   "cell_type": "markdown",
   "metadata": {},
   "source": [
    "<hr style=\"height: 0; box-shadow: 0 0 5px 4px crimson; width: 95%;\">"
   ]
  },
  {
   "cell_type": "markdown",
   "metadata": {},
   "source": [
    "<hr style=\"height: 0; box-shadow: 0 0 5px 4px dodgerblue; width: 85%;\">"
   ]
  }
 ],
 "metadata": {
  "language_info": {
   "name": "python"
  }
 },
 "nbformat": 4,
 "nbformat_minor": 2
}
